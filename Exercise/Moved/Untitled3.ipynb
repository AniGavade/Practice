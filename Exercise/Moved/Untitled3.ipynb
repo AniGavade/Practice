{
 "cells": [
  {
   "cell_type": "code",
   "execution_count": 10,
   "id": "bece3c5a",
   "metadata": {},
   "outputs": [
    {
     "name": "stdout",
     "output_type": "stream",
     "text": [
      "enter number of row:6\n",
      "      * \n",
      "     * * \n",
      "    * * * \n",
      "   * * * * \n",
      "  * * * * * \n",
      " * * * * * * \n"
     ]
    }
   ],
   "source": [
    "n = int(input(\"enter number of row:\"))\n",
    "for i in range (1,n+1):\n",
    "    print(\" \"*(n-i),end=\" \")\n",
    "    print(\"* \"*i)"
   ]
  },
  {
   "cell_type": "code",
   "execution_count": 12,
   "id": "96e37330",
   "metadata": {},
   "outputs": [
    {
     "name": "stdout",
     "output_type": "stream",
     "text": [
      "harshal\n",
      "HARSHAL\n",
      "Harshal\n"
     ]
    }
   ],
   "source": [
    "a = \"harshal\"\n",
    "print(a.lower())\n",
    "print(a.upper())\n",
    "print(a.title())"
   ]
  },
  {
   "cell_type": "code",
   "execution_count": null,
   "id": "449f140d",
   "metadata": {},
   "outputs": [],
   "source": []
  }
 ],
 "metadata": {
  "kernelspec": {
   "display_name": "Python 3 (ipykernel)",
   "language": "python",
   "name": "python3"
  },
  "language_info": {
   "codemirror_mode": {
    "name": "ipython",
    "version": 3
   },
   "file_extension": ".py",
   "mimetype": "text/x-python",
   "name": "python",
   "nbconvert_exporter": "python",
   "pygments_lexer": "ipython3",
   "version": "3.10.4"
  }
 },
 "nbformat": 4,
 "nbformat_minor": 5
}
